{
  "nbformat": 4,
  "nbformat_minor": 0,
  "metadata": {
    "colab": {
      "provenance": []
    },
    "kernelspec": {
      "name": "python3",
      "display_name": "Python 3"
    },
    "language_info": {
      "name": "python"
    }
  },
  "cells": [
    {
      "cell_type": "markdown",
      "source": [
        "# Microplastics in Marine Body 🌊\n",
        "\n",
        "## What are microplastics?\n",
        "Microplastics are the breakdown of larger plastics, which become tiny particles mainly less than 5mm in length. \n",
        "\n",
        "These are generally found in soils, water bodies and also in human bodies. These mainly occur in the environment due to inefficient way of disposing the consumer plastic units.\n",
        "\n",
        "When plastics get recycled, the end products which retained out with the disposed water is not treated properly at the waste water treatment plant or even if it is treated a minute percentage of microplastics stay dissolved with the water. And this water when released out to the water bodies, the water, the soil, crops, human beings; all comes in the contact of the contamination. \n",
        "\n",
        "Scientists have found these tiny bits of degraded plastic—along with fibers shed from synthetic fabric, and microbeads from cosmetics—lurking throughout the oceans, lakes, soil and even the air. Creatures from plankton to earthworms to humans are eating them, posing a potentially serious health threat to animals and ecosystems. The problem is only expected to balloon as plastic production increases exponentially—from a mere two million metric tons annually in 1950 to more than 300 million metric tons today, and a projected 33 billion metric tons each year by 2050.\n",
        "\n",
        "To prevent it from happening, we can commercially use single-use plastics and material scientists are also developing alternatives of plastics and lookalike plastics but they are also not even close enough to give 100% recyclability and end up in the nature in one or other way. \n",
        "\n",
        "Here, in this exploratory data analysis we will look into National Oceanic and Atmospheric Adminstration's (NOAA) marine microplastics data to know and understand microplastics, their growth rate with respect to various ocean bodies in our planet earth."
      ],
      "metadata": {
        "id": "Ir-oeB3wk9Bk"
      }
    },
    {
      "cell_type": "code",
      "execution_count": null,
      "metadata": {
        "id": "9NxahKatOIka"
      },
      "outputs": [],
      "source": [
        "# Import packages\n",
        "import os\n",
        "import io\n",
        "import numpy as np\n",
        "import pandas as pd\n",
        "import seaborn as sns\n",
        "from google.colab import files\n",
        "import csv\n",
        "import matplotlib.pyplot as plt\n",
        "%matplotlib inline\n",
        "plt.style.use('fivethirtyeight')"
      ]
    },
    {
      "cell_type": "code",
      "source": [
        "# For files upload\n",
        "data = files.upload()"
      ],
      "metadata": {
        "colab": {
          "base_uri": "https://localhost:8080/",
          "height": 74
        },
        "id": "6TdCTDzEOR8L",
        "outputId": "5d5ec875-acad-4181-a44e-ca63dc998bcc"
      },
      "execution_count": null,
      "outputs": [
        {
          "output_type": "display_data",
          "data": {
            "text/plain": [
              "<IPython.core.display.HTML object>"
            ],
            "text/html": [
              "\n",
              "     <input type=\"file\" id=\"files-432409c4-9972-4b1c-88d0-f9a72269893e\" name=\"files[]\" multiple disabled\n",
              "        style=\"border:none\" />\n",
              "     <output id=\"result-432409c4-9972-4b1c-88d0-f9a72269893e\">\n",
              "      Upload widget is only available when the cell has been executed in the\n",
              "      current browser session. Please rerun this cell to enable.\n",
              "      </output>\n",
              "      <script>// Copyright 2017 Google LLC\n",
              "//\n",
              "// Licensed under the Apache License, Version 2.0 (the \"License\");\n",
              "// you may not use this file except in compliance with the License.\n",
              "// You may obtain a copy of the License at\n",
              "//\n",
              "//      http://www.apache.org/licenses/LICENSE-2.0\n",
              "//\n",
              "// Unless required by applicable law or agreed to in writing, software\n",
              "// distributed under the License is distributed on an \"AS IS\" BASIS,\n",
              "// WITHOUT WARRANTIES OR CONDITIONS OF ANY KIND, either express or implied.\n",
              "// See the License for the specific language governing permissions and\n",
              "// limitations under the License.\n",
              "\n",
              "/**\n",
              " * @fileoverview Helpers for google.colab Python module.\n",
              " */\n",
              "(function(scope) {\n",
              "function span(text, styleAttributes = {}) {\n",
              "  const element = document.createElement('span');\n",
              "  element.textContent = text;\n",
              "  for (const key of Object.keys(styleAttributes)) {\n",
              "    element.style[key] = styleAttributes[key];\n",
              "  }\n",
              "  return element;\n",
              "}\n",
              "\n",
              "// Max number of bytes which will be uploaded at a time.\n",
              "const MAX_PAYLOAD_SIZE = 100 * 1024;\n",
              "\n",
              "function _uploadFiles(inputId, outputId) {\n",
              "  const steps = uploadFilesStep(inputId, outputId);\n",
              "  const outputElement = document.getElementById(outputId);\n",
              "  // Cache steps on the outputElement to make it available for the next call\n",
              "  // to uploadFilesContinue from Python.\n",
              "  outputElement.steps = steps;\n",
              "\n",
              "  return _uploadFilesContinue(outputId);\n",
              "}\n",
              "\n",
              "// This is roughly an async generator (not supported in the browser yet),\n",
              "// where there are multiple asynchronous steps and the Python side is going\n",
              "// to poll for completion of each step.\n",
              "// This uses a Promise to block the python side on completion of each step,\n",
              "// then passes the result of the previous step as the input to the next step.\n",
              "function _uploadFilesContinue(outputId) {\n",
              "  const outputElement = document.getElementById(outputId);\n",
              "  const steps = outputElement.steps;\n",
              "\n",
              "  const next = steps.next(outputElement.lastPromiseValue);\n",
              "  return Promise.resolve(next.value.promise).then((value) => {\n",
              "    // Cache the last promise value to make it available to the next\n",
              "    // step of the generator.\n",
              "    outputElement.lastPromiseValue = value;\n",
              "    return next.value.response;\n",
              "  });\n",
              "}\n",
              "\n",
              "/**\n",
              " * Generator function which is called between each async step of the upload\n",
              " * process.\n",
              " * @param {string} inputId Element ID of the input file picker element.\n",
              " * @param {string} outputId Element ID of the output display.\n",
              " * @return {!Iterable<!Object>} Iterable of next steps.\n",
              " */\n",
              "function* uploadFilesStep(inputId, outputId) {\n",
              "  const inputElement = document.getElementById(inputId);\n",
              "  inputElement.disabled = false;\n",
              "\n",
              "  const outputElement = document.getElementById(outputId);\n",
              "  outputElement.innerHTML = '';\n",
              "\n",
              "  const pickedPromise = new Promise((resolve) => {\n",
              "    inputElement.addEventListener('change', (e) => {\n",
              "      resolve(e.target.files);\n",
              "    });\n",
              "  });\n",
              "\n",
              "  const cancel = document.createElement('button');\n",
              "  inputElement.parentElement.appendChild(cancel);\n",
              "  cancel.textContent = 'Cancel upload';\n",
              "  const cancelPromise = new Promise((resolve) => {\n",
              "    cancel.onclick = () => {\n",
              "      resolve(null);\n",
              "    };\n",
              "  });\n",
              "\n",
              "  // Wait for the user to pick the files.\n",
              "  const files = yield {\n",
              "    promise: Promise.race([pickedPromise, cancelPromise]),\n",
              "    response: {\n",
              "      action: 'starting',\n",
              "    }\n",
              "  };\n",
              "\n",
              "  cancel.remove();\n",
              "\n",
              "  // Disable the input element since further picks are not allowed.\n",
              "  inputElement.disabled = true;\n",
              "\n",
              "  if (!files) {\n",
              "    return {\n",
              "      response: {\n",
              "        action: 'complete',\n",
              "      }\n",
              "    };\n",
              "  }\n",
              "\n",
              "  for (const file of files) {\n",
              "    const li = document.createElement('li');\n",
              "    li.append(span(file.name, {fontWeight: 'bold'}));\n",
              "    li.append(span(\n",
              "        `(${file.type || 'n/a'}) - ${file.size} bytes, ` +\n",
              "        `last modified: ${\n",
              "            file.lastModifiedDate ? file.lastModifiedDate.toLocaleDateString() :\n",
              "                                    'n/a'} - `));\n",
              "    const percent = span('0% done');\n",
              "    li.appendChild(percent);\n",
              "\n",
              "    outputElement.appendChild(li);\n",
              "\n",
              "    const fileDataPromise = new Promise((resolve) => {\n",
              "      const reader = new FileReader();\n",
              "      reader.onload = (e) => {\n",
              "        resolve(e.target.result);\n",
              "      };\n",
              "      reader.readAsArrayBuffer(file);\n",
              "    });\n",
              "    // Wait for the data to be ready.\n",
              "    let fileData = yield {\n",
              "      promise: fileDataPromise,\n",
              "      response: {\n",
              "        action: 'continue',\n",
              "      }\n",
              "    };\n",
              "\n",
              "    // Use a chunked sending to avoid message size limits. See b/62115660.\n",
              "    let position = 0;\n",
              "    do {\n",
              "      const length = Math.min(fileData.byteLength - position, MAX_PAYLOAD_SIZE);\n",
              "      const chunk = new Uint8Array(fileData, position, length);\n",
              "      position += length;\n",
              "\n",
              "      const base64 = btoa(String.fromCharCode.apply(null, chunk));\n",
              "      yield {\n",
              "        response: {\n",
              "          action: 'append',\n",
              "          file: file.name,\n",
              "          data: base64,\n",
              "        },\n",
              "      };\n",
              "\n",
              "      let percentDone = fileData.byteLength === 0 ?\n",
              "          100 :\n",
              "          Math.round((position / fileData.byteLength) * 100);\n",
              "      percent.textContent = `${percentDone}% done`;\n",
              "\n",
              "    } while (position < fileData.byteLength);\n",
              "  }\n",
              "\n",
              "  // All done.\n",
              "  yield {\n",
              "    response: {\n",
              "      action: 'complete',\n",
              "    }\n",
              "  };\n",
              "}\n",
              "\n",
              "scope.google = scope.google || {};\n",
              "scope.google.colab = scope.google.colab || {};\n",
              "scope.google.colab._files = {\n",
              "  _uploadFiles,\n",
              "  _uploadFilesContinue,\n",
              "};\n",
              "})(self);\n",
              "</script> "
            ]
          },
          "metadata": {}
        },
        {
          "output_type": "stream",
          "name": "stdout",
          "text": [
            "Saving DataRecords.csv to DataRecords.csv\n"
          ]
        }
      ]
    },
    {
      "cell_type": "code",
      "source": [
        "# Creating a dataframe\n",
        "marine = pd.read_csv(io.StringIO(data['DataRecords.csv'].decode('utf-8')), parse_dates = ['Date'])"
      ],
      "metadata": {
        "id": "LHCrNLtePFyI"
      },
      "execution_count": null,
      "outputs": []
    },
    {
      "cell_type": "markdown",
      "source": [
        "### First we will manually analyse the csv file to know which columns should we keep and which columns we should remove. Then we will print the column names and decide which one to remove and changes for any further modification. "
      ],
      "metadata": {
        "id": "EhACVFPbPPy8"
      }
    },
    {
      "cell_type": "code",
      "source": [
        "# To check the column names of the dataframe\n",
        "for col_names in marine.columns:\n",
        "  print(col_names)"
      ],
      "metadata": {
        "colab": {
          "base_uri": "https://localhost:8080/"
        },
        "id": "z24yeRKwPsxk",
        "outputId": "773a92b6-a2cf-4bf9-b96f-0f6213883219"
      },
      "execution_count": null,
      "outputs": [
        {
          "output_type": "stream",
          "name": "stdout",
          "text": [
            "FID\n",
            "Date\n",
            "Latitude\n",
            "Longitude\n",
            "Oceans\n",
            "Regions\n",
            "SubRegions\n",
            "Microplastics Measurement (density)\n",
            "Unit\n",
            "Density Class Range\n",
            "Density Class\n",
            "Sampling Method\n",
            "Short Reference\n",
            "Long Reference\n",
            "DOI\n",
            "Organization\n",
            "Keywords\n",
            "NCEI Accession Number\n",
            "NCEI Accession Link\n",
            "x\n",
            "y\n"
          ]
        }
      ]
    },
    {
      "cell_type": "markdown",
      "source": [
        "### From the above results, we will remove all the columns which are not required. x, y, NCEI Accession Link, NCEI Accession Number, keywords (it is same as organization), DOI and make FID as index."
      ],
      "metadata": {
        "id": "RWePx0GNQR-A"
      }
    },
    {
      "cell_type": "code",
      "source": [
        "# Remove specific columns\n",
        "marine = marine.drop(['DOI', 'Keywords', 'NCEI Accession Number', 'NCEI Accession Link', 'x', 'y'], axis = 1) "
      ],
      "metadata": {
        "id": "lYxngvnAQRIF"
      },
      "execution_count": null,
      "outputs": []
    },
    {
      "cell_type": "code",
      "source": [
        "# Set FID as index\n",
        "marine = marine.set_index('FID')"
      ],
      "metadata": {
        "id": "zxbTbnSLVdGM"
      },
      "execution_count": null,
      "outputs": []
    },
    {
      "cell_type": "markdown",
      "source": [
        "# Challenges 💪\n",
        "1.   What is the average microplastics measurement in all the oceans? Calculate their minimum and maximum values.\n",
        "2.   Which categories do oceans fall in? 🌊\n",
        "3.   Does blue planet really hold its status? 🌎\n",
        "4.   Different approach different measurement 📏\n",
        "5.   Are we really curbing the dispose of microplastics into the ocean?🌊"
      ],
      "metadata": {
        "id": "ZW1IeWHZgfim"
      }
    },
    {
      "cell_type": "markdown",
      "source": [
        "# 1.    What is the average microplastics measurement in all the oceans? Calculate their minimum and maximum values."
      ],
      "metadata": {
        "id": "bmnvIm1GCVfZ"
      }
    },
    {
      "cell_type": "markdown",
      "source": [
        "*   First, we will extract out the names of the oceans from csv.\n",
        "*   Then, find the mean of microplastics present in all the oceans.   "
      ],
      "metadata": {
        "id": "sGUgH3-cLiGF"
      }
    },
    {
      "cell_type": "code",
      "source": [
        "# Check the names of oceans in dataset\n",
        "for names in marine['Oceans'].unique():\n",
        "  print(names)"
      ],
      "metadata": {
        "colab": {
          "base_uri": "https://localhost:8080/"
        },
        "id": "XNReHF4YWUTM",
        "outputId": "7e4713b2-ef32-4e1b-8fac-76b2d7e3bf1c"
      },
      "execution_count": null,
      "outputs": [
        {
          "output_type": "stream",
          "name": "stdout",
          "text": [
            "Atlantic Ocean\n",
            "Pacific Ocean\n",
            "Indian Ocean\n",
            "Southern Ocean\n",
            "Arctic Ocean\n"
          ]
        }
      ]
    },
    {
      "cell_type": "code",
      "source": [
        "avg_microplastics = marine.groupby(['Oceans'])[['Microplastics Measurement (density)']].mean().round(4).sort_values('Microplastics Measurement (density)')\n",
        "avg_microplastics"
      ],
      "metadata": {
        "id": "WzkHCfpCFPm3",
        "colab": {
          "base_uri": "https://localhost:8080/",
          "height": 237
        },
        "outputId": "0202f08c-0515-48de-a313-5991af61ceca"
      },
      "execution_count": 9,
      "outputs": [
        {
          "output_type": "execute_result",
          "data": {
            "text/plain": [
              "                Microplastics Measurement (density)\n",
              "Oceans                                             \n",
              "Southern Ocean                               0.0108\n",
              "Arctic Ocean                                 0.0557\n",
              "Atlantic Ocean                               0.3094\n",
              "Pacific Ocean                                0.7825\n",
              "Indian Ocean                                 1.3769"
            ],
            "text/html": [
              "\n",
              "  <div id=\"df-7cb97647-86b6-4fdc-abf9-1f051bf233c4\">\n",
              "    <div class=\"colab-df-container\">\n",
              "      <div>\n",
              "<style scoped>\n",
              "    .dataframe tbody tr th:only-of-type {\n",
              "        vertical-align: middle;\n",
              "    }\n",
              "\n",
              "    .dataframe tbody tr th {\n",
              "        vertical-align: top;\n",
              "    }\n",
              "\n",
              "    .dataframe thead th {\n",
              "        text-align: right;\n",
              "    }\n",
              "</style>\n",
              "<table border=\"1\" class=\"dataframe\">\n",
              "  <thead>\n",
              "    <tr style=\"text-align: right;\">\n",
              "      <th></th>\n",
              "      <th>Microplastics Measurement (density)</th>\n",
              "    </tr>\n",
              "    <tr>\n",
              "      <th>Oceans</th>\n",
              "      <th></th>\n",
              "    </tr>\n",
              "  </thead>\n",
              "  <tbody>\n",
              "    <tr>\n",
              "      <th>Southern Ocean</th>\n",
              "      <td>0.0108</td>\n",
              "    </tr>\n",
              "    <tr>\n",
              "      <th>Arctic Ocean</th>\n",
              "      <td>0.0557</td>\n",
              "    </tr>\n",
              "    <tr>\n",
              "      <th>Atlantic Ocean</th>\n",
              "      <td>0.3094</td>\n",
              "    </tr>\n",
              "    <tr>\n",
              "      <th>Pacific Ocean</th>\n",
              "      <td>0.7825</td>\n",
              "    </tr>\n",
              "    <tr>\n",
              "      <th>Indian Ocean</th>\n",
              "      <td>1.3769</td>\n",
              "    </tr>\n",
              "  </tbody>\n",
              "</table>\n",
              "</div>\n",
              "      <button class=\"colab-df-convert\" onclick=\"convertToInteractive('df-7cb97647-86b6-4fdc-abf9-1f051bf233c4')\"\n",
              "              title=\"Convert this dataframe to an interactive table.\"\n",
              "              style=\"display:none;\">\n",
              "        \n",
              "  <svg xmlns=\"http://www.w3.org/2000/svg\" height=\"24px\"viewBox=\"0 0 24 24\"\n",
              "       width=\"24px\">\n",
              "    <path d=\"M0 0h24v24H0V0z\" fill=\"none\"/>\n",
              "    <path d=\"M18.56 5.44l.94 2.06.94-2.06 2.06-.94-2.06-.94-.94-2.06-.94 2.06-2.06.94zm-11 1L8.5 8.5l.94-2.06 2.06-.94-2.06-.94L8.5 2.5l-.94 2.06-2.06.94zm10 10l.94 2.06.94-2.06 2.06-.94-2.06-.94-.94-2.06-.94 2.06-2.06.94z\"/><path d=\"M17.41 7.96l-1.37-1.37c-.4-.4-.92-.59-1.43-.59-.52 0-1.04.2-1.43.59L10.3 9.45l-7.72 7.72c-.78.78-.78 2.05 0 2.83L4 21.41c.39.39.9.59 1.41.59.51 0 1.02-.2 1.41-.59l7.78-7.78 2.81-2.81c.8-.78.8-2.07 0-2.86zM5.41 20L4 18.59l7.72-7.72 1.47 1.35L5.41 20z\"/>\n",
              "  </svg>\n",
              "      </button>\n",
              "      \n",
              "  <style>\n",
              "    .colab-df-container {\n",
              "      display:flex;\n",
              "      flex-wrap:wrap;\n",
              "      gap: 12px;\n",
              "    }\n",
              "\n",
              "    .colab-df-convert {\n",
              "      background-color: #E8F0FE;\n",
              "      border: none;\n",
              "      border-radius: 50%;\n",
              "      cursor: pointer;\n",
              "      display: none;\n",
              "      fill: #1967D2;\n",
              "      height: 32px;\n",
              "      padding: 0 0 0 0;\n",
              "      width: 32px;\n",
              "    }\n",
              "\n",
              "    .colab-df-convert:hover {\n",
              "      background-color: #E2EBFA;\n",
              "      box-shadow: 0px 1px 2px rgba(60, 64, 67, 0.3), 0px 1px 3px 1px rgba(60, 64, 67, 0.15);\n",
              "      fill: #174EA6;\n",
              "    }\n",
              "\n",
              "    [theme=dark] .colab-df-convert {\n",
              "      background-color: #3B4455;\n",
              "      fill: #D2E3FC;\n",
              "    }\n",
              "\n",
              "    [theme=dark] .colab-df-convert:hover {\n",
              "      background-color: #434B5C;\n",
              "      box-shadow: 0px 1px 3px 1px rgba(0, 0, 0, 0.15);\n",
              "      filter: drop-shadow(0px 1px 2px rgba(0, 0, 0, 0.3));\n",
              "      fill: #FFFFFF;\n",
              "    }\n",
              "  </style>\n",
              "\n",
              "      <script>\n",
              "        const buttonEl =\n",
              "          document.querySelector('#df-7cb97647-86b6-4fdc-abf9-1f051bf233c4 button.colab-df-convert');\n",
              "        buttonEl.style.display =\n",
              "          google.colab.kernel.accessAllowed ? 'block' : 'none';\n",
              "\n",
              "        async function convertToInteractive(key) {\n",
              "          const element = document.querySelector('#df-7cb97647-86b6-4fdc-abf9-1f051bf233c4');\n",
              "          const dataTable =\n",
              "            await google.colab.kernel.invokeFunction('convertToInteractive',\n",
              "                                                     [key], {});\n",
              "          if (!dataTable) return;\n",
              "\n",
              "          const docLinkHtml = 'Like what you see? Visit the ' +\n",
              "            '<a target=\"_blank\" href=https://colab.research.google.com/notebooks/data_table.ipynb>data table notebook</a>'\n",
              "            + ' to learn more about interactive tables.';\n",
              "          element.innerHTML = '';\n",
              "          dataTable['output_type'] = 'display_data';\n",
              "          await google.colab.output.renderOutput(dataTable, element);\n",
              "          const docLink = document.createElement('div');\n",
              "          docLink.innerHTML = docLinkHtml;\n",
              "          element.appendChild(docLink);\n",
              "        }\n",
              "      </script>\n",
              "    </div>\n",
              "  </div>\n",
              "  "
            ]
          },
          "metadata": {},
          "execution_count": 9
        }
      ]
    },
    {
      "cell_type": "markdown",
      "source": [
        "**From the above analysis we found that, Southern Ocean has the lowest microplastics measurement in its water, where as Indian Ocean is 128 % more polluted with microplastics.**"
      ],
      "metadata": {
        "id": "tv6078L-MK5j"
      }
    },
    {
      "cell_type": "markdown",
      "source": [
        "# 2.    Which categories do oceans fall in? 🌊"
      ],
      "metadata": {
        "id": "ZZyEBAInQ3yX"
      }
    },
    {
      "cell_type": "markdown",
      "source": [
        "*   First, we will check the density class categories of oceans depending upon microplastics measurement\n",
        "*   Then we will create a list of conditions on density class and then append it to the previous table.\n",
        "\n"
      ],
      "metadata": {
        "id": "gXYr_QTHM-0M"
      }
    },
    {
      "cell_type": "code",
      "source": [
        "for names in marine['Density Class'].unique():\n",
        "  print(names)"
      ],
      "metadata": {
        "colab": {
          "base_uri": "https://localhost:8080/"
        },
        "id": "QYZn3V7udEiX",
        "outputId": "c48162b8-6d39-49d2-ee73-8c92622cb2ba"
      },
      "execution_count": 10,
      "outputs": [
        {
          "output_type": "stream",
          "name": "stdout",
          "text": [
            "Low : 0.0005-0.005 pieces/m³\n",
            "Medium : 0.005-1 pieces/m³\n",
            "Very Low: Less than 0.0005 pieces/m³\n",
            "High : 1-10 pieces/m³\n",
            "Very High : Greater than 10 pieces/m³\n"
          ]
        }
      ]
    },
    {
      "cell_type": "code",
      "source": [
        "# create a list of our conditions\n",
        "density_range = [\n",
        "    (avg_microplastics['Microplastics Measurement (density)'] > 0.0005) & (avg_microplastics['Microplastics Measurement (density)'] < 0.005),   #Low\n",
        "    (avg_microplastics['Microplastics Measurement (density)'] > 0.005) & (avg_microplastics['Microplastics Measurement (density)'] < 1),   # medium\n",
        "    (avg_microplastics['Microplastics Measurement (density)'] < 0.0005), # very low\n",
        "    (avg_microplastics['Microplastics Measurement (density)'] > 1) & (avg_microplastics['Microplastics Measurement (density)'] < 10),   #High\n",
        "    (avg_microplastics['Microplastics Measurement (density)'] > 10) # very high\n",
        "    ]\n",
        "\n",
        "# create a list of the values we want to assign for each condition\n",
        "density_class = ['Low', 'Medium', 'Very Low', 'High', 'Very High']\n",
        "\n",
        "# create a new column and use np.select to assign values to it using our lists as arguments\n",
        "avg_microplastics['Density Class'] = np.select(density_range, density_class)\n",
        "\n",
        "# display updated DataFrame\n",
        "avg_microplastics"
      ],
      "metadata": {
        "colab": {
          "base_uri": "https://localhost:8080/",
          "height": 237
        },
        "id": "cZELezhGQ-_3",
        "outputId": "9f9b546f-55b5-4f71-b413-54d6f89ad7fc"
      },
      "execution_count": 11,
      "outputs": [
        {
          "output_type": "execute_result",
          "data": {
            "text/plain": [
              "                Microplastics Measurement (density) Density Class\n",
              "Oceans                                                           \n",
              "Southern Ocean                               0.0108        Medium\n",
              "Arctic Ocean                                 0.0557        Medium\n",
              "Atlantic Ocean                               0.3094        Medium\n",
              "Pacific Ocean                                0.7825        Medium\n",
              "Indian Ocean                                 1.3769          High"
            ],
            "text/html": [
              "\n",
              "  <div id=\"df-e47ff3be-f604-487d-8fb5-c1745bd767e3\">\n",
              "    <div class=\"colab-df-container\">\n",
              "      <div>\n",
              "<style scoped>\n",
              "    .dataframe tbody tr th:only-of-type {\n",
              "        vertical-align: middle;\n",
              "    }\n",
              "\n",
              "    .dataframe tbody tr th {\n",
              "        vertical-align: top;\n",
              "    }\n",
              "\n",
              "    .dataframe thead th {\n",
              "        text-align: right;\n",
              "    }\n",
              "</style>\n",
              "<table border=\"1\" class=\"dataframe\">\n",
              "  <thead>\n",
              "    <tr style=\"text-align: right;\">\n",
              "      <th></th>\n",
              "      <th>Microplastics Measurement (density)</th>\n",
              "      <th>Density Class</th>\n",
              "    </tr>\n",
              "    <tr>\n",
              "      <th>Oceans</th>\n",
              "      <th></th>\n",
              "      <th></th>\n",
              "    </tr>\n",
              "  </thead>\n",
              "  <tbody>\n",
              "    <tr>\n",
              "      <th>Southern Ocean</th>\n",
              "      <td>0.0108</td>\n",
              "      <td>Medium</td>\n",
              "    </tr>\n",
              "    <tr>\n",
              "      <th>Arctic Ocean</th>\n",
              "      <td>0.0557</td>\n",
              "      <td>Medium</td>\n",
              "    </tr>\n",
              "    <tr>\n",
              "      <th>Atlantic Ocean</th>\n",
              "      <td>0.3094</td>\n",
              "      <td>Medium</td>\n",
              "    </tr>\n",
              "    <tr>\n",
              "      <th>Pacific Ocean</th>\n",
              "      <td>0.7825</td>\n",
              "      <td>Medium</td>\n",
              "    </tr>\n",
              "    <tr>\n",
              "      <th>Indian Ocean</th>\n",
              "      <td>1.3769</td>\n",
              "      <td>High</td>\n",
              "    </tr>\n",
              "  </tbody>\n",
              "</table>\n",
              "</div>\n",
              "      <button class=\"colab-df-convert\" onclick=\"convertToInteractive('df-e47ff3be-f604-487d-8fb5-c1745bd767e3')\"\n",
              "              title=\"Convert this dataframe to an interactive table.\"\n",
              "              style=\"display:none;\">\n",
              "        \n",
              "  <svg xmlns=\"http://www.w3.org/2000/svg\" height=\"24px\"viewBox=\"0 0 24 24\"\n",
              "       width=\"24px\">\n",
              "    <path d=\"M0 0h24v24H0V0z\" fill=\"none\"/>\n",
              "    <path d=\"M18.56 5.44l.94 2.06.94-2.06 2.06-.94-2.06-.94-.94-2.06-.94 2.06-2.06.94zm-11 1L8.5 8.5l.94-2.06 2.06-.94-2.06-.94L8.5 2.5l-.94 2.06-2.06.94zm10 10l.94 2.06.94-2.06 2.06-.94-2.06-.94-.94-2.06-.94 2.06-2.06.94z\"/><path d=\"M17.41 7.96l-1.37-1.37c-.4-.4-.92-.59-1.43-.59-.52 0-1.04.2-1.43.59L10.3 9.45l-7.72 7.72c-.78.78-.78 2.05 0 2.83L4 21.41c.39.39.9.59 1.41.59.51 0 1.02-.2 1.41-.59l7.78-7.78 2.81-2.81c.8-.78.8-2.07 0-2.86zM5.41 20L4 18.59l7.72-7.72 1.47 1.35L5.41 20z\"/>\n",
              "  </svg>\n",
              "      </button>\n",
              "      \n",
              "  <style>\n",
              "    .colab-df-container {\n",
              "      display:flex;\n",
              "      flex-wrap:wrap;\n",
              "      gap: 12px;\n",
              "    }\n",
              "\n",
              "    .colab-df-convert {\n",
              "      background-color: #E8F0FE;\n",
              "      border: none;\n",
              "      border-radius: 50%;\n",
              "      cursor: pointer;\n",
              "      display: none;\n",
              "      fill: #1967D2;\n",
              "      height: 32px;\n",
              "      padding: 0 0 0 0;\n",
              "      width: 32px;\n",
              "    }\n",
              "\n",
              "    .colab-df-convert:hover {\n",
              "      background-color: #E2EBFA;\n",
              "      box-shadow: 0px 1px 2px rgba(60, 64, 67, 0.3), 0px 1px 3px 1px rgba(60, 64, 67, 0.15);\n",
              "      fill: #174EA6;\n",
              "    }\n",
              "\n",
              "    [theme=dark] .colab-df-convert {\n",
              "      background-color: #3B4455;\n",
              "      fill: #D2E3FC;\n",
              "    }\n",
              "\n",
              "    [theme=dark] .colab-df-convert:hover {\n",
              "      background-color: #434B5C;\n",
              "      box-shadow: 0px 1px 3px 1px rgba(0, 0, 0, 0.15);\n",
              "      filter: drop-shadow(0px 1px 2px rgba(0, 0, 0, 0.3));\n",
              "      fill: #FFFFFF;\n",
              "    }\n",
              "  </style>\n",
              "\n",
              "      <script>\n",
              "        const buttonEl =\n",
              "          document.querySelector('#df-e47ff3be-f604-487d-8fb5-c1745bd767e3 button.colab-df-convert');\n",
              "        buttonEl.style.display =\n",
              "          google.colab.kernel.accessAllowed ? 'block' : 'none';\n",
              "\n",
              "        async function convertToInteractive(key) {\n",
              "          const element = document.querySelector('#df-e47ff3be-f604-487d-8fb5-c1745bd767e3');\n",
              "          const dataTable =\n",
              "            await google.colab.kernel.invokeFunction('convertToInteractive',\n",
              "                                                     [key], {});\n",
              "          if (!dataTable) return;\n",
              "\n",
              "          const docLinkHtml = 'Like what you see? Visit the ' +\n",
              "            '<a target=\"_blank\" href=https://colab.research.google.com/notebooks/data_table.ipynb>data table notebook</a>'\n",
              "            + ' to learn more about interactive tables.';\n",
              "          element.innerHTML = '';\n",
              "          dataTable['output_type'] = 'display_data';\n",
              "          await google.colab.output.renderOutput(dataTable, element);\n",
              "          const docLink = document.createElement('div');\n",
              "          docLink.innerHTML = docLinkHtml;\n",
              "          element.appendChild(docLink);\n",
              "        }\n",
              "      </script>\n",
              "    </div>\n",
              "  </div>\n",
              "  "
            ]
          },
          "metadata": {},
          "execution_count": 11
        }
      ]
    },
    {
      "cell_type": "markdown",
      "source": [
        "**It shows that, all the oceans come under *Medium* density class ranging between 0.005 - 1 pieces/m3 rather than Indian Ocean which has a *High* density class ranging between 1 - 10 pieces/m3.**"
      ],
      "metadata": {
        "id": "mMQTu9kjN8ae"
      }
    },
    {
      "cell_type": "markdown",
      "source": [
        "# 3.    Does blue planet really hold its status? 🌎"
      ],
      "metadata": {
        "id": "h668Vr75Ymjy"
      }
    },
    {
      "cell_type": "code",
      "source": [
        "total_microplastics = marine[['Microplastics Measurement (density)']].mean()\n",
        "print(total_microplastics)"
      ],
      "metadata": {
        "id": "jwhnPQeUYs1b",
        "colab": {
          "base_uri": "https://localhost:8080/"
        },
        "outputId": "220c36f7-7852-4b19-ad6f-e8be0470f6fe"
      },
      "execution_count": 12,
      "outputs": [
        {
          "output_type": "stream",
          "name": "stdout",
          "text": [
            "Microplastics Measurement (density)    0.467347\n",
            "dtype: float64\n"
          ]
        }
      ]
    },
    {
      "cell_type": "markdown",
      "source": [
        "From this analysis, we found that even if world's microplastics measurement is in Medium density class but if we check with respect to different oceans, we can see the broader picture that, blue planet is getting polluted. \n",
        "\n",
        "And we being the care taker of our home need to reduce the use of plastics, develop new material technology for it's alternatives.\n",
        "\n",
        "LET'S HOLD THE STATUS OF EARTH AND NOT LET IT POLLUTE!!!"
      ],
      "metadata": {
        "id": "5gVpMSWGPEO_"
      }
    },
    {
      "cell_type": "markdown",
      "source": [
        "# 4.    Different approach different measurement📏"
      ],
      "metadata": {
        "id": "CYGokRKs2oO0"
      }
    },
    {
      "cell_type": "markdown",
      "source": [
        "*   First, we will know about the sampling method categories to measure microplastics in ocean.\n",
        "*   Then we will group the dataset on the basis of sampling method and oceans and calculate the mean microplastics in each ocean."
      ],
      "metadata": {
        "id": "oBxyUgU-Qu2F"
      }
    },
    {
      "cell_type": "code",
      "source": [
        "for names in marine['Sampling Method'].unique():\n",
        "  print(names)"
      ],
      "metadata": {
        "colab": {
          "base_uri": "https://localhost:8080/"
        },
        "id": "8QZxIL7Fdbqb",
        "outputId": "0a336c9d-cfac-4902-9585-b0c1219e8466"
      },
      "execution_count": 13,
      "outputs": [
        {
          "output_type": "stream",
          "name": "stdout",
          "text": [
            "Neuston net\n",
            "Grab sample\n",
            "Intake seawater\n",
            "Manta net\n"
          ]
        }
      ]
    },
    {
      "cell_type": "code",
      "source": [
        "sampling_microplastics = marine.groupby(['Sampling Method', 'Oceans'])[['Microplastics Measurement (density)']].mean().round(4).sort_values('Sampling Method')\n",
        "sampling_microplastics\n"
      ],
      "metadata": {
        "colab": {
          "base_uri": "https://localhost:8080/",
          "height": 551
        },
        "id": "UCRNm_qF3_cw",
        "outputId": "ab5a1e2f-92c1-4fa8-a155-9ab0d03260ca"
      },
      "execution_count": 14,
      "outputs": [
        {
          "output_type": "execute_result",
          "data": {
            "text/plain": [
              "                                Microplastics Measurement (density)\n",
              "Sampling Method Oceans                                             \n",
              "Grab sample     Arctic Ocean                                 0.0557\n",
              "                Atlantic Ocean                               0.0141\n",
              "                Indian Ocean                                 0.0057\n",
              "                Pacific Ocean                                0.0074\n",
              "                Southern Ocean                               0.0177\n",
              "Intake seawater Atlantic Ocean                              31.4138\n",
              "                Indian Ocean                                24.8571\n",
              "                Pacific Ocean                               71.3200\n",
              "Manta net       Atlantic Ocean                               0.4103\n",
              "                Indian Ocean                                 0.0344\n",
              "                Pacific Ocean                                1.8451\n",
              "Neuston net     Atlantic Ocean                               0.0622\n",
              "                Indian Ocean                                 0.0154\n",
              "                Pacific Ocean                                0.1145\n",
              "                Southern Ocean                               0.0012"
            ],
            "text/html": [
              "\n",
              "  <div id=\"df-7972580f-b5c7-4ce6-86c9-9aef2f6c66f8\">\n",
              "    <div class=\"colab-df-container\">\n",
              "      <div>\n",
              "<style scoped>\n",
              "    .dataframe tbody tr th:only-of-type {\n",
              "        vertical-align: middle;\n",
              "    }\n",
              "\n",
              "    .dataframe tbody tr th {\n",
              "        vertical-align: top;\n",
              "    }\n",
              "\n",
              "    .dataframe thead th {\n",
              "        text-align: right;\n",
              "    }\n",
              "</style>\n",
              "<table border=\"1\" class=\"dataframe\">\n",
              "  <thead>\n",
              "    <tr style=\"text-align: right;\">\n",
              "      <th></th>\n",
              "      <th></th>\n",
              "      <th>Microplastics Measurement (density)</th>\n",
              "    </tr>\n",
              "    <tr>\n",
              "      <th>Sampling Method</th>\n",
              "      <th>Oceans</th>\n",
              "      <th></th>\n",
              "    </tr>\n",
              "  </thead>\n",
              "  <tbody>\n",
              "    <tr>\n",
              "      <th rowspan=\"5\" valign=\"top\">Grab sample</th>\n",
              "      <th>Arctic Ocean</th>\n",
              "      <td>0.0557</td>\n",
              "    </tr>\n",
              "    <tr>\n",
              "      <th>Atlantic Ocean</th>\n",
              "      <td>0.0141</td>\n",
              "    </tr>\n",
              "    <tr>\n",
              "      <th>Indian Ocean</th>\n",
              "      <td>0.0057</td>\n",
              "    </tr>\n",
              "    <tr>\n",
              "      <th>Pacific Ocean</th>\n",
              "      <td>0.0074</td>\n",
              "    </tr>\n",
              "    <tr>\n",
              "      <th>Southern Ocean</th>\n",
              "      <td>0.0177</td>\n",
              "    </tr>\n",
              "    <tr>\n",
              "      <th rowspan=\"3\" valign=\"top\">Intake seawater</th>\n",
              "      <th>Atlantic Ocean</th>\n",
              "      <td>31.4138</td>\n",
              "    </tr>\n",
              "    <tr>\n",
              "      <th>Indian Ocean</th>\n",
              "      <td>24.8571</td>\n",
              "    </tr>\n",
              "    <tr>\n",
              "      <th>Pacific Ocean</th>\n",
              "      <td>71.3200</td>\n",
              "    </tr>\n",
              "    <tr>\n",
              "      <th rowspan=\"3\" valign=\"top\">Manta net</th>\n",
              "      <th>Atlantic Ocean</th>\n",
              "      <td>0.4103</td>\n",
              "    </tr>\n",
              "    <tr>\n",
              "      <th>Indian Ocean</th>\n",
              "      <td>0.0344</td>\n",
              "    </tr>\n",
              "    <tr>\n",
              "      <th>Pacific Ocean</th>\n",
              "      <td>1.8451</td>\n",
              "    </tr>\n",
              "    <tr>\n",
              "      <th rowspan=\"4\" valign=\"top\">Neuston net</th>\n",
              "      <th>Atlantic Ocean</th>\n",
              "      <td>0.0622</td>\n",
              "    </tr>\n",
              "    <tr>\n",
              "      <th>Indian Ocean</th>\n",
              "      <td>0.0154</td>\n",
              "    </tr>\n",
              "    <tr>\n",
              "      <th>Pacific Ocean</th>\n",
              "      <td>0.1145</td>\n",
              "    </tr>\n",
              "    <tr>\n",
              "      <th>Southern Ocean</th>\n",
              "      <td>0.0012</td>\n",
              "    </tr>\n",
              "  </tbody>\n",
              "</table>\n",
              "</div>\n",
              "      <button class=\"colab-df-convert\" onclick=\"convertToInteractive('df-7972580f-b5c7-4ce6-86c9-9aef2f6c66f8')\"\n",
              "              title=\"Convert this dataframe to an interactive table.\"\n",
              "              style=\"display:none;\">\n",
              "        \n",
              "  <svg xmlns=\"http://www.w3.org/2000/svg\" height=\"24px\"viewBox=\"0 0 24 24\"\n",
              "       width=\"24px\">\n",
              "    <path d=\"M0 0h24v24H0V0z\" fill=\"none\"/>\n",
              "    <path d=\"M18.56 5.44l.94 2.06.94-2.06 2.06-.94-2.06-.94-.94-2.06-.94 2.06-2.06.94zm-11 1L8.5 8.5l.94-2.06 2.06-.94-2.06-.94L8.5 2.5l-.94 2.06-2.06.94zm10 10l.94 2.06.94-2.06 2.06-.94-2.06-.94-.94-2.06-.94 2.06-2.06.94z\"/><path d=\"M17.41 7.96l-1.37-1.37c-.4-.4-.92-.59-1.43-.59-.52 0-1.04.2-1.43.59L10.3 9.45l-7.72 7.72c-.78.78-.78 2.05 0 2.83L4 21.41c.39.39.9.59 1.41.59.51 0 1.02-.2 1.41-.59l7.78-7.78 2.81-2.81c.8-.78.8-2.07 0-2.86zM5.41 20L4 18.59l7.72-7.72 1.47 1.35L5.41 20z\"/>\n",
              "  </svg>\n",
              "      </button>\n",
              "      \n",
              "  <style>\n",
              "    .colab-df-container {\n",
              "      display:flex;\n",
              "      flex-wrap:wrap;\n",
              "      gap: 12px;\n",
              "    }\n",
              "\n",
              "    .colab-df-convert {\n",
              "      background-color: #E8F0FE;\n",
              "      border: none;\n",
              "      border-radius: 50%;\n",
              "      cursor: pointer;\n",
              "      display: none;\n",
              "      fill: #1967D2;\n",
              "      height: 32px;\n",
              "      padding: 0 0 0 0;\n",
              "      width: 32px;\n",
              "    }\n",
              "\n",
              "    .colab-df-convert:hover {\n",
              "      background-color: #E2EBFA;\n",
              "      box-shadow: 0px 1px 2px rgba(60, 64, 67, 0.3), 0px 1px 3px 1px rgba(60, 64, 67, 0.15);\n",
              "      fill: #174EA6;\n",
              "    }\n",
              "\n",
              "    [theme=dark] .colab-df-convert {\n",
              "      background-color: #3B4455;\n",
              "      fill: #D2E3FC;\n",
              "    }\n",
              "\n",
              "    [theme=dark] .colab-df-convert:hover {\n",
              "      background-color: #434B5C;\n",
              "      box-shadow: 0px 1px 3px 1px rgba(0, 0, 0, 0.15);\n",
              "      filter: drop-shadow(0px 1px 2px rgba(0, 0, 0, 0.3));\n",
              "      fill: #FFFFFF;\n",
              "    }\n",
              "  </style>\n",
              "\n",
              "      <script>\n",
              "        const buttonEl =\n",
              "          document.querySelector('#df-7972580f-b5c7-4ce6-86c9-9aef2f6c66f8 button.colab-df-convert');\n",
              "        buttonEl.style.display =\n",
              "          google.colab.kernel.accessAllowed ? 'block' : 'none';\n",
              "\n",
              "        async function convertToInteractive(key) {\n",
              "          const element = document.querySelector('#df-7972580f-b5c7-4ce6-86c9-9aef2f6c66f8');\n",
              "          const dataTable =\n",
              "            await google.colab.kernel.invokeFunction('convertToInteractive',\n",
              "                                                     [key], {});\n",
              "          if (!dataTable) return;\n",
              "\n",
              "          const docLinkHtml = 'Like what you see? Visit the ' +\n",
              "            '<a target=\"_blank\" href=https://colab.research.google.com/notebooks/data_table.ipynb>data table notebook</a>'\n",
              "            + ' to learn more about interactive tables.';\n",
              "          element.innerHTML = '';\n",
              "          dataTable['output_type'] = 'display_data';\n",
              "          await google.colab.output.renderOutput(dataTable, element);\n",
              "          const docLink = document.createElement('div');\n",
              "          docLink.innerHTML = docLinkHtml;\n",
              "          element.appendChild(docLink);\n",
              "        }\n",
              "      </script>\n",
              "    </div>\n",
              "  </div>\n",
              "  "
            ]
          },
          "metadata": {},
          "execution_count": 14
        }
      ]
    },
    {
      "cell_type": "markdown",
      "source": [
        "### Visualizing the data 📈"
      ],
      "metadata": {
        "id": "kZT7c2RURjAZ"
      }
    },
    {
      "cell_type": "code",
      "source": [
        "sampling_microplastics.plot(kind = 'barh', logx = True, figsize = (20,10))\n",
        "plt.show()"
      ],
      "metadata": {
        "colab": {
          "base_uri": "https://localhost:8080/",
          "height": 468
        },
        "id": "w7oVFtnl6l1B",
        "outputId": "b894aaa0-4db3-49de-cf6d-e55b804c306f"
      },
      "execution_count": 15,
      "outputs": [
        {
          "output_type": "display_data",
          "data": {
            "text/plain": [
              "<Figure size 1440x720 with 1 Axes>"
            ],
            "image/png": "[encoded data removed]"
          },
          "metadata": {}
        }
      ]
    },
    {
      "cell_type": "markdown",
      "source": [
        "**From the above analysis,we concluded that every method outputs different measurement theories. So, we need more insights about the dataset to clearly reach near a conclusion to know which one is the best method to measure microplastics from marine bodies.**"
      ],
      "metadata": {
        "id": "1MD2u3kwRx-0"
      }
    },
    {
      "cell_type": "markdown",
      "source": [
        "# 5.    Are we really curbing the dispose of microplastics into the ocean? 🌊"
      ],
      "metadata": {
        "id": "F2fXj3BgKJBK"
      }
    },
    {
      "cell_type": "markdown",
      "source": [
        "Here, we will group microplastics measurement on the basis of year and plot them into a line plot."
      ],
      "metadata": {
        "id": "kOdp9eglT4w5"
      }
    },
    {
      "cell_type": "code",
      "source": [
        "microplastics_rate = marine.groupby(marine.Date.dt.year)['Microplastics Measurement (density)'].mean()"
      ],
      "metadata": {
        "id": "EaOEw6SzKLPL"
      },
      "execution_count": 16,
      "outputs": []
    },
    {
      "cell_type": "code",
      "source": [
        "microplastics_rate.plot(kind = 'line', logy = True, figsize = (10,8), xlabel = 'Years', ylabel = 'Microplastics Measurement (density)')"
      ],
      "metadata": {
        "colab": {
          "base_uri": "https://localhost:8080/",
          "height": 554
        },
        "id": "LwTUTj8nXrGF",
        "outputId": "234a9133-10c8-4ae6-a8eb-aba8d36bd224"
      },
      "execution_count": 17,
      "outputs": [
        {
          "output_type": "execute_result",
          "data": {
            "text/plain": [
              "<matplotlib.axes._subplots.AxesSubplot at 0x7faa961f1640>"
            ]
          },
          "metadata": {},
          "execution_count": 17
        },
        {
          "output_type": "display_data",
          "data": {
            "text/plain": [
              "<Figure size 720x576 with 1 Axes>"
            ],
            "image/png": "[encoded data removed]"
          },
          "metadata": {}
        }
      ]
    },
    {
      "cell_type": "markdown",
      "source": [
        "**From the above visualization, we can easily see that the contamination of oceans with plastics has sky rocketed.**\n",
        "\n",
        "**This line plot may go up higher with the coming years. As long as we are using plastics and there is a production of plastice without a proper disposal technique, we are not saved.**"
      ],
      "metadata": {
        "id": "t2f5bojqUaiu"
      }
    },
    {
      "cell_type": "markdown",
      "source": [
        "# SAY NO TO PLASTIC!!!\n",
        "# SAVE EARTH 🌎, SAVE HUMANS 🧍"
      ],
      "metadata": {
        "id": "i7Pbg1cmWPdl"
      }
    }
  ]
}